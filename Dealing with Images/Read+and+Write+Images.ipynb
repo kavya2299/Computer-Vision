{
 "cells": [
  {
   "cell_type": "markdown",
   "metadata": {},
   "source": [
    "### Importing libraries\n",
    "* cv2 is imported for using image and video files and to do some processing on them.\n",
    "* matplotlib is a tool used here to visualize the images.\n",
    "* os is used to deal with system and to retrieve files from the current hardware."
   ]
  },
  {
   "cell_type": "code",
   "execution_count": null,
   "metadata": {
    "collapsed": true
   },
   "outputs": [],
   "source": [
    "import cv2\n",
    "import matplotlib.pyplot as plt\n",
    "import os\n",
    "print(\"all libraries imported\")"
   ]
  },
  {
   "cell_type": "markdown",
   "metadata": {},
   "source": [
    "### Enter the path so as to extract all the image files present in a directory."
   ]
  },
  {
   "cell_type": "code",
   "execution_count": null,
   "metadata": {
    "collapsed": true,
    "scrolled": true
   },
   "outputs": [],
   "source": [
    "path=input(\"Enter the path:\")\n",
    "print(path) #to ensure that the path of images is the same as what is typed in \n",
    "\n",
    "# a function to load only images that are in the directory given by the path\n",
    "def load_images(path):\n",
    "    return(os.path.join(path,f) for f in os.listdir(path) if f.endswith(\".jpg\")) # f for files \n",
    "\n",
    "filenames=load_images(path)\n",
    "print(\"images loaded\")"
   ]
  },
  {
   "cell_type": "markdown",
   "metadata": {},
   "source": [
    "### Read the images in the unchanged mode and also display a particular image using  plt.show()"
   ]
  },
  {
   "cell_type": "code",
   "execution_count": null,
   "metadata": {
    "collapsed": true
   },
   "outputs": [],
   "source": [
    "# getting a list of images read by cv2 in terms of their pixel values\n",
    "images=[]\n",
    "for file in filenames:\n",
    "    images.append(cv2.imread(file,-1))\n",
    "print(\"images read in unchanged mode\")\n",
    "\n",
    "#to see or display a particular image \n",
    "#either use cv2 or use matplotlib since the latter is way more efficient and friendly than the former\n",
    "index=input(\"Enter a number from 1 to 12500 to see an image:\")\n",
    "def display_img(index):\n",
    "    #cv2.imshow(\"image\",images[index])\n",
    "    # if the imshow function does not work, use matplotlib\n",
    "    plt.imshow(images[index],cmap=plt.cm.binary)\n",
    "    plt.xticks([]), plt.yticks([])\n",
    "    plt.show()\n",
    "display_img(int(index)) # to change the string to an integer parameter\n",
    "\n",
    "# to write images to the directory specified in .png format    \n",
    "num=0\n",
    "for image in images:\n",
    "    cv2.imwrite(os.path.join(path, 'image',str(num),'.png'),image)\n",
    "    num++\n",
    "print(\"images written in .png format in the path\")"
   ]
  }
 ],
 "metadata": {
  "kernelspec": {
   "display_name": "Python 3",
   "language": "python",
   "name": "python3"
  },
  "language_info": {
   "codemirror_mode": {
    "name": "ipython",
    "version": 3
   },
   "file_extension": ".py",
   "mimetype": "text/x-python",
   "name": "python",
   "nbconvert_exporter": "python",
   "pygments_lexer": "ipython3",
   "version": "3.6.8"
  }
 },
 "nbformat": 4,
 "nbformat_minor": 2
}
